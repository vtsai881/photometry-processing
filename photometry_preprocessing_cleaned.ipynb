{
 "cells": [
  {
   "cell_type": "code",
   "execution_count": 1,
   "id": "5d213860",
   "metadata": {},
   "outputs": [],
   "source": [
    "import pandas as pd\n",
    "import numpy as np\n",
    "import os\n",
    "import pyarrow\n",
    "from pyarrow import csv"
   ]
  },
  {
   "cell_type": "code",
   "execution_count": 5,
   "id": "b7fe9a45",
   "metadata": {},
   "outputs": [],
   "source": [
    "#df = pd.read_csv(r\"C:\\Users\\Valerie\\Downloads\\Rew_Neutral.csv\", header = None)\n",
    "df = pd.read_csv(r\"C:\\Users\\Valerie\\Downloads\\Rew_Neutral_Pun_HEY1.csv\", header = None)\n",
    "trials = df.iloc[:,1]\n",
    "#df2 = pd.read_excel(r\"C:\\Users\\Valerie\\Downloads\\og_t_i_p.xlsx\")\n",
    "rewardtrials = []\n",
    "ititrials = []\n",
    "puntrials = []\n",
    "for i in range(0, len(df.iloc[:,1])):\n",
    "    if (df.iloc[:,1][i] == 'p'):\n",
    "        puntrials.append(i)\n",
    "    elif (df.iloc[:,1][i] == 'i'):\n",
    "        ititrials.append(i)\n",
    "    elif (df.iloc[:,1][i] == 't'):\n",
    "        rewardtrials.append(i)"
   ]
  },
  {
   "cell_type": "markdown",
   "id": "9d38cd9a",
   "metadata": {},
   "source": [
    "# BRUTE FORCE WAY\n",
    "\n",
    "Please define (run) `process_one_folder` before running `process_all_folders`"
   ]
  },
  {
   "cell_type": "code",
   "execution_count": 3,
   "id": "1dd9cc8f",
   "metadata": {},
   "outputs": [],
   "source": [
    "def remove_consecutive(input_list, limit=5):\n",
    "    result = [input_list[0]] \n",
    "\n",
    "    for value in input_list[1:]:\n",
    "        if abs(value - result[-1]) > limit:\n",
    "            result.append(value)\n",
    "\n",
    "    return result\n",
    "\n",
    "def process_one_folder(folder, method):\n",
    "    dcol = ['D' + str(i) for i in range(128)]\n",
    "    \n",
    "    if method == 'guppy':\n",
    "        for file in os.listdir(folder):\n",
    "            cur_csv = os.path.join(folder,file)\n",
    "            df = pd.read_csv(cur_csv)\n",
    "\n",
    "            if file.endswith('TTL.csv'):\n",
    "\n",
    "                df['ttls'] = df[dcol].max(axis=1)\n",
    "\n",
    "                newdf = pd.DataFrame()\n",
    "                t = list(df['TIME'].loc[df['ttls'] == 1])\n",
    "                newdf['timestamps'] = remove_consecutive(t, limit=8.5)\n",
    "                newdf = newdf.reset_index(drop=True)\n",
    "\n",
    "                newdf.to_csv(os.path.join(folder,'TTL_guppy_processed_2.csv'), index=None)\n",
    "            elif file.endswith('405.csv') or file.endswith('470.csv'):\n",
    "                hz =  1 / df['Sampling_Freq'][0] \n",
    "                newdf = pd.DataFrame({'data': df[dcol].to_numpy().flatten(), 'sampling_rate': df['Sampling_Freq'][0]})\n",
    "                newdf['timestamps'] = newdf.index * hz\n",
    "                newdf['sampling_rate'][1:] = None\n",
    "                newdf = newdf[['timestamps', 'data' , 'sampling_rate']]\n",
    "                newdf_ = pyarrow.Table.from_pandas(newdf)\n",
    "                pyarrow.csv.write_csv(newdf_, os.path.join(folder, file.split('.')[0] + '_guppy_processed.csv') )\n",
    "    \n",
    "    elif method == 'pmat':\n",
    "        df_405 = pd.read_csv(os.path.join(folder,'405.csv'))\n",
    "        df_470 =  pd.read_csv(os.path.join(folder,'470.csv'))\n",
    "\n",
    "        newdf = pd.DataFrame()\n",
    "        newdf['TimeStamp'] = df_470['TIME'].copy()\n",
    "        newdf['Signal'] = df_470[dcol].mean(axis=1)\n",
    "        newdf['Control'] = df_405[dcol].mean(axis=1)\n",
    "\n",
    "        newdf.to_csv(os.path.join(folder,'pmat_processed.csv'))\n",
    "    \n",
    "    elif method == 'pmatttl':\n",
    "        df_ttl = pd.read_csv(os.path.join(folder,'TTL.csv'))\n",
    "        df_405 = pd.read_csv(os.path.join(folder,'405.csv'))\n",
    "        df_470 =  pd.read_csv(os.path.join(folder,'470.csv'))\n",
    "\n",
    "        newdf = pd.DataFrame()\n",
    "        newdf['TimeStamp'] = df_470['TIME'].copy()\n",
    "        newdf['Signal'] = df_470[dcol].mean(axis=1)\n",
    "        newdf['Control'] = df_405[dcol].mean(axis=1)\n",
    "        newdf['ttls'] = df_ttl[dcol].max(axis=1)\n",
    "\n",
    "        firstidx = np.where(newdf.ttls == 1)[0][0]\n",
    "\n",
    "        newdf['TimeStamp'] -= newdf['TimeStamp'][firstidx]\n",
    "        newdf = newdf[['TimeStamp', 'Signal', 'Control']][firstidx:].reset_index(drop=True)\n",
    "\n",
    "        newdf.to_csv(os.path.join(folder,'pmat_ttl_processed.csv'))"
   ]
  },
  {
   "cell_type": "code",
   "execution_count": 4,
   "id": "d4e03636",
   "metadata": {},
   "outputs": [],
   "source": [
    "def process_all_folders(folders, method):\n",
    "    \n",
    "    for root, directories, files in os.walk(folders):\n",
    "        for directory in directories:\n",
    "            directory_path = os.path.join(root, directory)\n",
    "            \n",
    "            # if all three files exists\n",
    "            if all(item in os.listdir(directory_path) for item in ('405.csv', '470.csv', 'TTL.csv')):\n",
    "                process_one_folder(directory_path, method)\n",
    "            \n",
    "            print(f'Processed: {directory_path} with {method}')"
   ]
  },
  {
   "cell_type": "code",
   "execution_count": 112,
   "id": "3672ff9b",
   "metadata": {
    "scrolled": true
   },
   "outputs": [
    {
     "name": "stdout",
     "output_type": "stream",
     "text": [
      "CPU times: total: 4.58 s\n",
      "Wall time: 4.46 s\n"
     ]
    }
   ],
   "source": [
    "%%time\n",
    "process_one_folder(r'C:\\Users\\Valerie\\Documents\\Tejeda_Lab\\headfixed\\1018_cohort\\test\\rew_neutral_punish\\RNP_D3\\99_3', 'guppy')"
   ]
  },
  {
   "cell_type": "code",
   "execution_count": 5,
   "id": "199a7af9",
   "metadata": {
    "scrolled": true
   },
   "outputs": [
    {
     "name": "stdout",
     "output_type": "stream",
     "text": [
      "Processed: C:\\Users\\Valerie\\Documents\\Tejeda_Lab\\headfixed\\1130_umass\\Raw_Photom_Data with guppy\n",
      "Processed: C:\\Users\\Valerie\\Documents\\Tejeda_Lab\\headfixed\\1130_umass\\Raw_Photom_Data\\RTD1_umass with guppy\n",
      "Processed: C:\\Users\\Valerie\\Documents\\Tejeda_Lab\\headfixed\\1130_umass\\Raw_Photom_Data\\RTD2_umass with guppy\n",
      "Processed: C:\\Users\\Valerie\\Documents\\Tejeda_Lab\\headfixed\\1130_umass\\Raw_Photom_Data\\RTD3_umass with guppy\n",
      "Processed: C:\\Users\\Valerie\\Documents\\Tejeda_Lab\\headfixed\\1130_umass\\Raw_Photom_Data\\RTD1_umass\\47_1 with guppy\n",
      "Processed: C:\\Users\\Valerie\\Documents\\Tejeda_Lab\\headfixed\\1130_umass\\Raw_Photom_Data\\RTD1_umass\\47_3 with guppy\n",
      "Processed: C:\\Users\\Valerie\\Documents\\Tejeda_Lab\\headfixed\\1130_umass\\Raw_Photom_Data\\RTD1_umass\\48_1 with guppy\n",
      "Processed: C:\\Users\\Valerie\\Documents\\Tejeda_Lab\\headfixed\\1130_umass\\Raw_Photom_Data\\RTD1_umass\\48_2 with guppy\n",
      "Processed: C:\\Users\\Valerie\\Documents\\Tejeda_Lab\\headfixed\\1130_umass\\Raw_Photom_Data\\RTD2_umass\\47_1 with guppy\n",
      "Processed: C:\\Users\\Valerie\\Documents\\Tejeda_Lab\\headfixed\\1130_umass\\Raw_Photom_Data\\RTD2_umass\\47_3 with guppy\n",
      "Processed: C:\\Users\\Valerie\\Documents\\Tejeda_Lab\\headfixed\\1130_umass\\Raw_Photom_Data\\RTD2_umass\\48_1 with guppy\n",
      "Processed: C:\\Users\\Valerie\\Documents\\Tejeda_Lab\\headfixed\\1130_umass\\Raw_Photom_Data\\RTD2_umass\\48_2 with guppy\n",
      "Processed: C:\\Users\\Valerie\\Documents\\Tejeda_Lab\\headfixed\\1130_umass\\Raw_Photom_Data\\RTD3_umass\\47_1 with guppy\n",
      "Processed: C:\\Users\\Valerie\\Documents\\Tejeda_Lab\\headfixed\\1130_umass\\Raw_Photom_Data\\RTD3_umass\\47_3 with guppy\n",
      "Processed: C:\\Users\\Valerie\\Documents\\Tejeda_Lab\\headfixed\\1130_umass\\Raw_Photom_Data\\RTD3_umass\\48_1 with guppy\n",
      "Processed: C:\\Users\\Valerie\\Documents\\Tejeda_Lab\\headfixed\\1130_umass\\Raw_Photom_Data\\RTD3_umass\\48_2 with guppy\n",
      "CPU times: total: 44.5 s\n",
      "Wall time: 43.7 s\n"
     ]
    }
   ],
   "source": [
    "%%time\n",
    "folder = r\"C:\\Users\\Valerie\\Documents\\Tejeda_Lab\\headfixed\\1130_umass\"\n",
    "\n",
    "process_all_folders(folder, 'guppy')"
   ]
  }
 ],
 "metadata": {
  "kernelspec": {
   "display_name": "Python 3 (ipykernel)",
   "language": "python",
   "name": "python3"
  },
  "language_info": {
   "codemirror_mode": {
    "name": "ipython",
    "version": 3
   },
   "file_extension": ".py",
   "mimetype": "text/x-python",
   "name": "python",
   "nbconvert_exporter": "python",
   "pygments_lexer": "ipython3",
   "version": "3.9.12"
  }
 },
 "nbformat": 4,
 "nbformat_minor": 5
}
